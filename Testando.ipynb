{
 "cells": [
  {
   "cell_type": "code",
   "execution_count": 1,
   "id": "2890a9f8",
   "metadata": {},
   "outputs": [
    {
     "name": "stdout",
     "output_type": "stream",
     "text": [
      "-- .- -.-. .- \n"
     ]
    }
   ],
   "source": [
    "import encodeMorse"
   ]
  },
  {
   "cell_type": "code",
   "execution_count": 2,
   "id": "1d701e52",
   "metadata": {},
   "outputs": [],
   "source": [
    "decode = encodeMorse.encodeMorse('SMS')"
   ]
  },
  {
   "cell_type": "code",
   "execution_count": 3,
   "id": "ba5bd044",
   "metadata": {},
   "outputs": [
    {
     "data": {
      "text/plain": [
       "'S M S '"
      ]
     },
     "execution_count": 3,
     "metadata": {},
     "output_type": "execute_result"
    }
   ],
   "source": [
    "encodeMorse.decodeMorse(decode)"
   ]
  },
  {
   "cell_type": "code",
   "execution_count": 4,
   "id": "9222fc09",
   "metadata": {},
   "outputs": [],
   "source": [
    "nome = 'severino'"
   ]
  },
  {
   "cell_type": "code",
   "execution_count": 5,
   "id": "d5924c55",
   "metadata": {},
   "outputs": [
    {
     "ename": "AttributeError",
     "evalue": "'str' object has no attribute 'remove'",
     "output_type": "error",
     "traceback": [
      "\u001b[1;31m---------------------------------------------------------------------------\u001b[0m",
      "\u001b[1;31mAttributeError\u001b[0m                            Traceback (most recent call last)",
      "Input \u001b[1;32mIn [5]\u001b[0m, in \u001b[0;36m<cell line: 1>\u001b[1;34m()\u001b[0m\n\u001b[1;32m----> 1\u001b[0m \u001b[43mnome\u001b[49m\u001b[38;5;241;43m.\u001b[39;49m\u001b[43mremove\u001b[49m[\u001b[38;5;28mlen\u001b[39m(nome)\u001b[38;5;241m-\u001b[39m\u001b[38;5;241m1\u001b[39m]\n",
      "\u001b[1;31mAttributeError\u001b[0m: 'str' object has no attribute 'remove'"
     ]
    }
   ],
   "source": [
    "nome.remove[len(nome)-1]"
   ]
  },
  {
   "cell_type": "code",
   "execution_count": null,
   "id": "919c637d",
   "metadata": {},
   "outputs": [],
   "source": []
  },
  {
   "cell_type": "code",
   "execution_count": null,
   "id": "80ff514b",
   "metadata": {},
   "outputs": [],
   "source": []
  },
  {
   "cell_type": "code",
   "execution_count": null,
   "id": "f47f8ef6",
   "metadata": {},
   "outputs": [],
   "source": []
  }
 ],
 "metadata": {
  "kernelspec": {
   "display_name": "Python 3 (ipykernel)",
   "language": "python",
   "name": "python3"
  },
  "language_info": {
   "codemirror_mode": {
    "name": "ipython",
    "version": 3
   },
   "file_extension": ".py",
   "mimetype": "text/x-python",
   "name": "python",
   "nbconvert_exporter": "python",
   "pygments_lexer": "ipython3",
   "version": "3.9.7"
  }
 },
 "nbformat": 4,
 "nbformat_minor": 5
}
